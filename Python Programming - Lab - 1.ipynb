{
 "cells": [
  {
   "cell_type": "markdown",
   "metadata": {},
   "source": [
    "<a href='https://www.darshan.ac.in/'> <img src='https://www.darshan.ac.in/Content/media/DU_Logo.svg' width=\"250\" height=\"300\"/></a>\n",
    "<pre>\n",
    "<center><b><h1>Python Programming - 2101CS405</b></center>\n",
    "<center><b><h1>Lab - 1</b></center>    \n",
    "<pre>"
   ]
  },
  {
   "cell_type": "markdown",
   "metadata": {},
   "source": [
    "### 01) WAP to print “Hello World”"
   ]
  },
  {
   "cell_type": "code",
   "execution_count": 1,
   "metadata": {},
   "outputs": [
    {
     "name": "stdout",
     "output_type": "stream",
     "text": [
      "Hello World\n"
     ]
    }
   ],
   "source": [
    "print(\"Hello World\")"
   ]
  },
  {
   "cell_type": "markdown",
   "metadata": {},
   "source": [
    "### 02) WAP to print your address i) using single print ii) using multiple print"
   ]
  },
  {
   "cell_type": "code",
   "execution_count": 2,
   "metadata": {},
   "outputs": [
    {
     "name": "stdout",
     "output_type": "stream",
     "text": [
      "Ghansyam Nivas,7-Ankur Nagar,behind gokuldham socity,Rajkot\n",
      "Ghansyam Nivas\n",
      "7,Ankur Nagar\n",
      "Rajkot\n"
     ]
    }
   ],
   "source": [
    "print(\"Ghansyam Nivas,7-Ankur Nagar,behind gokuldham socity,Rajkot\")\n",
    "print(\"Ghansyam Nivas\")\n",
    "print(\"7,Ankur Nagar\")\n",
    "print(\"Rajkot\")"
   ]
  },
  {
   "cell_type": "markdown",
   "metadata": {},
   "source": [
    "### 03) WAP to print addition of 2 numbers (without input function)"
   ]
  },
  {
   "cell_type": "code",
   "execution_count": 3,
   "metadata": {},
   "outputs": [
    {
     "name": "stdout",
     "output_type": "stream",
     "text": [
      "8\n"
     ]
    }
   ],
   "source": [
    "a=3\n",
    "b=5\n",
    "c=a+b\n",
    "print(c)"
   ]
  },
  {
   "cell_type": "markdown",
   "metadata": {},
   "source": [
    "### 04) WAP to calculate and print average of 2 numbers (without input function)"
   ]
  },
  {
   "cell_type": "code",
   "execution_count": 4,
   "metadata": {},
   "outputs": [
    {
     "name": "stdout",
     "output_type": "stream",
     "text": [
      "2\n"
     ]
    }
   ],
   "source": [
    "a=3\n",
    "b=2\n",
    "c=(a+b)//2\n",
    "print(c)"
   ]
  },
  {
   "cell_type": "markdown",
   "metadata": {},
   "source": [
    "### 05) WAP to add two number entered by user."
   ]
  },
  {
   "cell_type": "code",
   "execution_count": 5,
   "metadata": {},
   "outputs": [
    {
     "name": "stdout",
     "output_type": "stream",
     "text": [
      "Enter Number 1: 10\n",
      "Enter Number 2: 20\n",
      "30\n"
     ]
    }
   ],
   "source": [
    "a = int(input(\"Enter Number 1: \"))\n",
    "b = int(input(\"Enter Number 2: \"))\n",
    "c = a+b\n",
    "print(c)"
   ]
  },
  {
   "cell_type": "markdown",
   "metadata": {},
   "source": [
    "### 06) WAP to calculate simple interest."
   ]
  },
  {
   "cell_type": "code",
   "execution_count": 6,
   "metadata": {},
   "outputs": [
    {
     "name": "stdout",
     "output_type": "stream",
     "text": [
      "4000.0\n"
     ]
    }
   ],
   "source": [
    "p = 10000\n",
    "r = 20\n",
    "n = 2\n",
    "ans = (p*r*n)/100\n",
    "print(ans)"
   ]
  },
  {
   "cell_type": "markdown",
   "metadata": {},
   "source": [
    "### 07) WAP Calculate Area and Circumfrence of Circle"
   ]
  },
  {
   "cell_type": "code",
   "execution_count": 9,
   "metadata": {},
   "outputs": [
    {
     "name": "stdout",
     "output_type": "stream",
     "text": [
      "94.2\n",
      "706.5\n"
     ]
    }
   ],
   "source": [
    "r = 15\n",
    "circum = 2*3.14*r\n",
    "area = 3.14*r*r\n",
    "print(circum)\n",
    "print(area)"
   ]
  },
  {
   "cell_type": "markdown",
   "metadata": {},
   "source": [
    "### 08) WAP to print Multiplication table of given number without using loops."
   ]
  },
  {
   "cell_type": "code",
   "execution_count": 14,
   "metadata": {},
   "outputs": [
    {
     "name": "stdout",
     "output_type": "stream",
     "text": [
      "Enter Number: 5\n",
      "5 * 1 = 5\n",
      "5 * 2 = 10\n",
      "5 * 3 = 15\n",
      "5 * 4 = 20\n",
      "5 * 5 = 25\n",
      "5 * 6 = 30\n",
      "5 * 7 = 35\n",
      "5 * 8 = 40\n",
      "5 * 9 = 45\n",
      "5 * 10 = 50\n"
     ]
    }
   ],
   "source": [
    "a = int(input(\"Enter Number: \"))\n",
    "print(a,\"*\",1,\"=\",a*1)\n",
    "print(a,\"*\",2,\"=\",a*2)\n",
    "print(a,\"*\",3,\"=\",a*3)\n",
    "print(a,\"*\",4,\"=\",a*4)\n",
    "print(a,\"*\",5,\"=\",a*5)\n",
    "print(a,\"*\",6,\"=\",a*6)\n",
    "print(a,\"*\",7,\"=\",a*7)\n",
    "print(a,\"*\",8,\"=\",a*8)\n",
    "print(a,\"*\",9,\"=\",a*9)\n",
    "print(a,\"*\",10,\"=\",a*10)"
   ]
  },
  {
   "cell_type": "markdown",
   "metadata": {},
   "source": [
    "### 09) WAP to calculate Area of Triangle (hint: a = h * b * 0.5)"
   ]
  },
  {
   "cell_type": "code",
   "execution_count": 15,
   "metadata": {},
   "outputs": [
    {
     "name": "stdout",
     "output_type": "stream",
     "text": [
      "Enter height: 5\n",
      "Enter base: 5\n",
      "12.5\n"
     ]
    }
   ],
   "source": [
    "h = int(input(\"Enter height: \"))\n",
    "b = int(input(\"Enter base: \"))\n",
    "print(h*b*0.5)"
   ]
  },
  {
   "cell_type": "markdown",
   "metadata": {},
   "source": [
    "### 10) WAP to convert degree to Fahrenheit and vice versa."
   ]
  },
  {
   "cell_type": "code",
   "execution_count": 20,
   "metadata": {},
   "outputs": [
    {
     "name": "stdout",
     "output_type": "stream",
     "text": [
      "celcius = -6.666666666666667\n",
      "ferenhit = 68.0\n"
     ]
    }
   ],
   "source": [
    "f = 20\n",
    "c = ((f-32)*5)/9\n",
    "print(\"celcius =\",c)\n",
    "c = 20\n",
    "f = (c*(9/5))+32\n",
    "print(\"ferenhit =\",f)"
   ]
  },
  {
   "cell_type": "markdown",
   "metadata": {},
   "source": [
    "### 11) WAP to calculate total marks and Percentage."
   ]
  },
  {
   "cell_type": "code",
   "execution_count": 23,
   "metadata": {},
   "outputs": [
    {
     "name": "stdout",
     "output_type": "stream",
     "text": [
      "Enter Subject1 Marks: 52\n",
      "Enter Subject2 Marks: 52\n",
      "Enter Subject3 Marks: 52\n",
      "Enter Subject4 Marks: 52\n",
      "Enter Subject5 Marks: 52\n",
      "260\n",
      "52.0\n"
     ]
    }
   ],
   "source": [
    "sub1 = int(input(\"Enter Subject1 Marks: \"))\n",
    "sub2 = int(input(\"Enter Subject2 Marks: \"))\n",
    "sub3 = int(input(\"Enter Subject3 Marks: \"))\n",
    "sub4 = int(input(\"Enter Subject4 Marks: \"))\n",
    "sub5 = int(input(\"Enter Subject5 Marks: \"))\n",
    "total = (sub1 + sub2 + sub3 + sub4 + sub5)\n",
    "print(total)\n",
    "percentage = (total)/5\n",
    "print(percentage)"
   ]
  },
  {
   "cell_type": "markdown",
   "metadata": {},
   "source": [
    "### 12) Compute distance between two points taking input from the user (Pythagorean Theorem)."
   ]
  },
  {
   "cell_type": "code",
   "execution_count": 26,
   "metadata": {},
   "outputs": [
    {
     "name": "stdout",
     "output_type": "stream",
     "text": [
      "Enter point x1: 4\n",
      "Enter point x2: 6\n",
      "Enter point y1: 0\n",
      "Enter point y2: 6\n",
      "6.324555320336759\n"
     ]
    }
   ],
   "source": [
    "x1 = int(input(\"Enter point x1: \"))\n",
    "x2 = int(input(\"Enter point x2: \"))\n",
    "y1 = int(input(\"Enter point y1: \"))\n",
    "y2 = int(input(\"Enter point y2: \"))\n",
    "distance = ((((x2-x1)**2)+((y2-y1)**2))**0.5)\n",
    "print(distance)"
   ]
  },
  {
   "cell_type": "markdown",
   "metadata": {},
   "source": [
    "### 13) WAP to convert seconds into hours, minutes & seconds and print in HH:MM:SS\n",
    "[e.g. 10000 seconds mean 2:46:40 (2 Hours, 46 Minutes, 40Seconds)]"
   ]
  },
  {
   "cell_type": "code",
   "execution_count": 34,
   "metadata": {},
   "outputs": [
    {
     "name": "stdout",
     "output_type": "stream",
     "text": [
      "Enter Seconds: 10000\n",
      "2 : 46 : 40\n"
     ]
    }
   ],
   "source": [
    "seconds = int(input(\"Enter Seconds: \"))\n",
    "hour = seconds // 3600\n",
    "seconds %= 3600\n",
    "minutes = seconds // 60\n",
    "seconds %= 60\n",
    "print(hour,\":\",minutes,\":\",seconds)"
   ]
  },
  {
   "cell_type": "markdown",
   "metadata": {},
   "source": [
    "### 14) WAP to enter distance into kilometer and convert it into meter, feet,inches, and centimeter"
   ]
  },
  {
   "cell_type": "code",
   "execution_count": 36,
   "metadata": {},
   "outputs": [
    {
     "name": "stdout",
     "output_type": "stream",
     "text": [
      "Enter Kilometere: 1\n",
      "meter=  1000\n",
      "feet=  3280.8\n",
      "inches=  39370.1\n",
      "centimeter=  100000\n"
     ]
    }
   ],
   "source": [
    "km = int(input(\"Enter Kilometere: \"))\n",
    "m = km*1000\n",
    "print(\"meter= \",m)\n",
    "f = km*3280.8\n",
    "print(\"feet= \",f)\n",
    "inc = km*39370.1\n",
    "print(\"inches= \",inc)\n",
    "cm = km*100000\n",
    "print(\"centimeter= \",cm)"
   ]
  },
  {
   "cell_type": "code",
   "execution_count": null,
   "metadata": {},
   "outputs": [],
   "source": []
  }
 ],
 "metadata": {
  "kernelspec": {
   "display_name": "Python 3 (ipykernel)",
   "language": "python",
   "name": "python3"
  },
  "language_info": {
   "codemirror_mode": {
    "name": "ipython",
    "version": 3
   },
   "file_extension": ".py",
   "mimetype": "text/x-python",
   "name": "python",
   "nbconvert_exporter": "python",
   "pygments_lexer": "ipython3",
   "version": "3.9.7"
  }
 },
 "nbformat": 4,
 "nbformat_minor": 4
}
