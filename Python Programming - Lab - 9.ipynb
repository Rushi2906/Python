{
 "cells": [
  {
   "cell_type": "markdown",
   "metadata": {},
   "source": [
    "<a href='https://www.darshan.ac.in/'> <img src='https://www.darshan.ac.in/Content/media/DU_Logo.svg' width=\"250\" height=\"300\"/></a>\n",
    "<pre>\n",
    "<center><b><h1>Python Programming - 2101CS405</b></center>\n",
    "<center><b><h1>Lab - 9</b></center>    \n",
    "<pre>"
   ]
  },
  {
   "cell_type": "markdown",
   "metadata": {},
   "source": [
    "# Exception Handling"
   ]
  },
  {
   "cell_type": "markdown",
   "metadata": {},
   "source": [
    "# A"
   ]
  },
  {
   "cell_type": "markdown",
   "metadata": {},
   "source": [
    "### 01) WAP to handle divide by zero exception."
   ]
  },
  {
   "cell_type": "code",
   "execution_count": 5,
   "metadata": {},
   "outputs": [
    {
     "name": "stdout",
     "output_type": "stream",
     "text": [
      "Enter No 1: 1\n",
      "Enter No 2: 0\n",
      "Zero Divison Error\n"
     ]
    }
   ],
   "source": [
    "a = int(input(\"Enter No 1: \"))\n",
    "b = int(input(\"Enter No 2: \"))\n",
    "\n",
    "try:\n",
    "    c = a/b\n",
    "    print(c)\n",
    "except ZeroDivisionError:\n",
    "    print(\"Zero Divison Error\")"
   ]
  },
  {
   "cell_type": "markdown",
   "metadata": {},
   "source": [
    "### 02)  Write a Python program that inputs a number and generates an error message if it is not a number."
   ]
  },
  {
   "cell_type": "code",
   "execution_count": 7,
   "metadata": {},
   "outputs": [
    {
     "name": "stdout",
     "output_type": "stream",
     "text": [
      "Enter Number rushi\n",
      "Value Error\n"
     ]
    }
   ],
   "source": [
    "try:\n",
    "    a = int(input(\"Enter Number \"))\n",
    "    print(a)\n",
    "except:\n",
    "    print(\"Value Error\")"
   ]
  },
  {
   "cell_type": "markdown",
   "metadata": {},
   "source": [
    "### 03) WAP to handle file not found Exception"
   ]
  },
  {
   "cell_type": "code",
   "execution_count": 13,
   "metadata": {},
   "outputs": [
    {
     "name": "stdout",
     "output_type": "stream",
     "text": [
      "File Not Found Exception\n"
     ]
    }
   ],
   "source": [
    "try:\n",
    "    f = open(\"abcd.txt\",'r')\n",
    "    f.read()\n",
    "except FileNotFoundError:\n",
    "    print(\"File Not Found Exception\")"
   ]
  },
  {
   "cell_type": "markdown",
   "metadata": {},
   "source": [
    "### 04) WAP to handle type Exception."
   ]
  },
  {
   "cell_type": "code",
   "execution_count": 10,
   "metadata": {},
   "outputs": [
    {
     "name": "stdout",
     "output_type": "stream",
     "text": [
      "Enter Number 1 : 1\n",
      "Enter Number 2 : rushi\n",
      "Type Error\n"
     ]
    }
   ],
   "source": [
    "a = int(input(\"Enter Number 1 : \"))\n",
    "b = input(\"Enter Number 2 : \")\n",
    "try:\n",
    "    print(a+b)\n",
    "except:\n",
    "    print(\"Type Error\")"
   ]
  },
  {
   "cell_type": "markdown",
   "metadata": {},
   "source": [
    "### 05) WAP to demonstrate valueError and indexError with example."
   ]
  },
  {
   "cell_type": "code",
   "execution_count": 30,
   "metadata": {},
   "outputs": [
    {
     "name": "stdout",
     "output_type": "stream",
     "text": [
      "Enter Number : rushi\n",
      "ValueError Exception Raised\n"
     ]
    }
   ],
   "source": [
    "try:\n",
    "    num1 = int(input(\"Enter Number : \"))\n",
    "    list1 = []\n",
    "    list1.append(num1)\n",
    "    print(list1[1])\n",
    "except ValueError:\n",
    "    print(\"ValueError Exception Raised\")\n",
    "except IndexError:\n",
    "    print(\"IndexError Exception Raised\")"
   ]
  },
  {
   "cell_type": "markdown",
   "metadata": {},
   "source": [
    "### 06) WAP to domonstrate else  and finally block."
   ]
  },
  {
   "cell_type": "code",
   "execution_count": 34,
   "metadata": {},
   "outputs": [
    {
     "name": "stdout",
     "output_type": "stream",
     "text": [
      "Enter No 1: 1\n",
      "Enter No 2: 2\n",
      "Else Block Executed with ans 0.5\n",
      "Finally Block Executed\n"
     ]
    }
   ],
   "source": [
    "a = int(input(\"Enter No 1: \"))\n",
    "b = int(input(\"Enter No 2: \"))\n",
    "try:\n",
    "    c = a/b\n",
    "except:\n",
    "    print(\"Exception Found\")\n",
    "else:\n",
    "    print(f\"Else Block Executed with ans {c}\")\n",
    "finally:\n",
    "    print(\"Finally Block Executed\")\n",
    "    "
   ]
  },
  {
   "cell_type": "markdown",
   "metadata": {},
   "source": [
    "### 07) Create a short program that prompts the user for a list of grades separated by commas. Split the string into individual grades and use a list comprehension to convert each string to an integer. You should use a try statement to inform the user when the values they entered cannot be converted."
   ]
  },
  {
   "cell_type": "code",
   "execution_count": 37,
   "metadata": {},
   "outputs": [
    {
     "name": "stdout",
     "output_type": "stream",
     "text": [
      "Enter List Of Marks Seperated By Comma : 2,3,r\n",
      "Value Can't Converted\n"
     ]
    }
   ],
   "source": [
    "try:\n",
    "    marks = input(\"Enter List Of Marks Seperated By Comma : \").split(\",\")\n",
    "    list1 = [int(x) for x in marks]\n",
    "except:\n",
    "    print(\"Value Can't Converted\")\n",
    "else:\n",
    "    print(list1)"
   ]
  },
  {
   "cell_type": "markdown",
   "metadata": {},
   "source": []
  },
  {
   "cell_type": "markdown",
   "metadata": {},
   "source": [
    "# B"
   ]
  },
  {
   "cell_type": "markdown",
   "metadata": {},
   "source": [
    "### 01) WAP to Raising User Generated Exception."
   ]
  },
  {
   "cell_type": "code",
   "execution_count": 45,
   "metadata": {},
   "outputs": [
    {
     "name": "stdout",
     "output_type": "stream",
     "text": [
      "Enter No 1: 1\n",
      "Enter No 2: 0\n",
      "Zero Divison Error Occured\n"
     ]
    }
   ],
   "source": [
    "try:\n",
    "    a = int(input(\"Enter No 1: \"))\n",
    "    b = int(input(\"Enter No 2: \"))\n",
    "    if b!=0:\n",
    "        print(a/b)\n",
    "    else:\n",
    "        raise ZeroDivisionError\n",
    "except ZeroDivisionError:\n",
    "    print(\"Zero Divison Error Occured\")"
   ]
  },
  {
   "cell_type": "markdown",
   "metadata": {},
   "source": [
    "### 02) WAP to raise your custom Exception."
   ]
  },
  {
   "cell_type": "code",
   "execution_count": 46,
   "metadata": {},
   "outputs": [
    {
     "name": "stdout",
     "output_type": "stream",
     "text": [
      "Enter Number: 3\n",
      "('Number is Odd',)\n"
     ]
    }
   ],
   "source": [
    "class OddEvenNumberException(Exception):\n",
    "    \"Raised when the entered value is odd\"\n",
    "try:\n",
    "    a = int(input(\"Enter Number: \"))\n",
    "    if a%2==0:\n",
    "        print(a)\n",
    "    else:\n",
    "        raise OddEvenNumberException(\"Number is Odd\")\n",
    "except OddEvenNumberException as e: \n",
    "    print(e.args)"
   ]
  }
 ],
 "metadata": {
  "kernelspec": {
   "display_name": "Python 3 (ipykernel)",
   "language": "python",
   "name": "python3"
  },
  "language_info": {
   "codemirror_mode": {
    "name": "ipython",
    "version": 3
   },
   "file_extension": ".py",
   "mimetype": "text/x-python",
   "name": "python",
   "nbconvert_exporter": "python",
   "pygments_lexer": "ipython3",
   "version": "3.9.13"
  }
 },
 "nbformat": 4,
 "nbformat_minor": 4
}
