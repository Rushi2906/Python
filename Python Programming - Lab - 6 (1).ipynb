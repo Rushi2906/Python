{
 "cells": [
  {
   "attachments": {},
   "cell_type": "markdown",
   "metadata": {},
   "source": [
    "<a href='https://www.darshan.ac.in/'> <img src='https://www.darshan.ac.in/Content/media/DU_Logo.svg' width=\"250\" height=\"300\"/></a>\n",
    "<pre>\n",
    "<center><b><h1>Python Programming - 2101CS405</b></center>\n",
    "<center><b><h1>Lab - 6</b></center>    \n",
    "<pre>"
   ]
  },
  {
   "cell_type": "markdown",
   "metadata": {},
   "source": [
    "# Tuples, dictionary, set"
   ]
  },
  {
   "cell_type": "markdown",
   "metadata": {},
   "source": [
    "# A"
   ]
  },
  {
   "cell_type": "markdown",
   "metadata": {},
   "source": [
    "### 01) WAP to sort python dictionary by key or value."
   ]
  },
  {
   "cell_type": "code",
   "execution_count": 4,
   "metadata": {},
   "outputs": [
    {
     "name": "stdout",
     "output_type": "stream",
     "text": [
      "{1: 'abc', 2: 'xyz', 3: 'pqr'}\n"
     ]
    }
   ],
   "source": [
    "my_dict = {1:\"abc\",3:\"pqr\",2:\"xyz\"}\n",
    "for i in my_dict:\n",
    "    l1=sorted(my_dict.items())\n",
    "my_dict = dict(l1)\n",
    "print(my_dict)   "
   ]
  },
  {
   "cell_type": "markdown",
   "metadata": {},
   "source": [
    "### 02) WAP to merge two dictionaries given by user."
   ]
  },
  {
   "cell_type": "code",
   "execution_count": 12,
   "metadata": {},
   "outputs": [
    {
     "name": "stdout",
     "output_type": "stream",
     "text": [
      "Enter Keys: \n",
      "Enter Values: \n",
      "{'1': 'abc'}\n",
      "Enter Keys: \n",
      "Enter Values: \n",
      "{'2': 'xyz'}\n",
      "{'1': 'abc', '2': 'xyz'}\n"
     ]
    }
   ],
   "source": [
    "my_dict1={}\n",
    "c=int(input(\"Enter How many Element you want to enter: \"))\n",
    "for i in range(c):\n",
    "    print(\"Enter Keys: \")\n",
    "    keys=input()\n",
    "    print(\"Enter Values: \")\n",
    "    values=input()\n",
    "    my_dict1[keys]=values\n",
    "print(my_dict1)\n",
    "\n",
    "my_dict2={}\n",
    "c=int(input(\"Enter How many Element you want to enter: \"))\n",
    "for i in range(c):\n",
    "    print(\"Enter Keys: \")\n",
    "    keys=input()\n",
    "    print(\"Enter Values: \")\n",
    "    values=input()\n",
    "    my_dict2[keys]=values\n",
    "print(my_dict2)\n",
    "\n",
    "print(my_dict1 | my_dict2)"
   ]
  },
  {
   "cell_type": "markdown",
   "metadata": {},
   "source": [
    "### 03) WAP to find tuples that have all elements divisible by K from a list of tuples."
   ]
  },
  {
   "cell_type": "code",
   "execution_count": 24,
   "metadata": {},
   "outputs": [
    {
     "name": "stdout",
     "output_type": "stream",
     "text": [
      "[(4, 6)]\n"
     ]
    }
   ],
   "source": [
    "my_dict=[(1,2),(4,6),(2,3)]\n",
    "k=2\n",
    "for i in my_dict:\n",
    "    ans = [x for x in my_dict if all(ele%k==0 for ele in x)]\n",
    "print(ans)"
   ]
  },
  {
   "cell_type": "markdown",
   "metadata": {},
   "source": [
    "### 04) WAP to find Tuples with positive elements in List of tuples."
   ]
  },
  {
   "cell_type": "code",
   "execution_count": 25,
   "metadata": {},
   "outputs": [
    {
     "name": "stdout",
     "output_type": "stream",
     "text": [
      "[(4, 6), (2, 3)]\n"
     ]
    }
   ],
   "source": [
    "my_dict=[(-1,2),(4,6),(2,3)]\n",
    "for i in my_dict:\n",
    "    ans = [x for x in my_dict if all(ele>0 for ele in x)]\n",
    "print(ans)"
   ]
  },
  {
   "cell_type": "markdown",
   "metadata": {},
   "source": [
    "### 05) WAP which perform union of two sets."
   ]
  },
  {
   "cell_type": "code",
   "execution_count": 27,
   "metadata": {},
   "outputs": [
    {
     "name": "stdout",
     "output_type": "stream",
     "text": [
      "{0, 1, 2, 3, 4, 5, 6, 8, 9}\n"
     ]
    }
   ],
   "source": [
    "set1 = {1,1,2,3,4,5}\n",
    "set2 = {1,3,6,8,9,0}\n",
    "print(set1.union(set2))"
   ]
  },
  {
   "cell_type": "markdown",
   "metadata": {},
   "source": [
    "# B"
   ]
  },
  {
   "cell_type": "markdown",
   "metadata": {},
   "source": [
    "### 01) WAP to convert binary tuple into integer."
   ]
  },
  {
   "cell_type": "code",
   "execution_count": 31,
   "metadata": {},
   "outputs": [
    {
     "name": "stdout",
     "output_type": "stream",
     "text": [
      "5\n"
     ]
    }
   ],
   "source": [
    "my_tuple=(1,0,1)\n",
    "res = int(\"\".join(str(ele) for ele in my_tuple),2)\n",
    "print(res)"
   ]
  },
  {
   "cell_type": "markdown",
   "metadata": {},
   "source": [
    "### 02) WAP to count frequency in list by dictionary."
   ]
  },
  {
   "cell_type": "code",
   "execution_count": 37,
   "metadata": {},
   "outputs": [
    {
     "name": "stdout",
     "output_type": "stream",
     "text": [
      "{1: 3, 2: 2, 3: 2, 4: 4}\n"
     ]
    }
   ],
   "source": [
    "li = [1,1,1,2,2,3,3,4,4,4,4]\n",
    "freq={}\n",
    "for item in li:\n",
    "    if(item in freq):\n",
    "        freq[item]+=1\n",
    "    else:\n",
    "        freq[item]=1\n",
    "print(freq)"
   ]
  },
  {
   "cell_type": "markdown",
   "metadata": {},
   "source": [
    "### 03) WAP to remove all the duplicate words from the list using dictionary."
   ]
  },
  {
   "cell_type": "code",
   "execution_count": 1,
   "metadata": {},
   "outputs": [
    {
     "data": {
      "text/plain": [
       "['a', 'b', 'c']"
      ]
     },
     "execution_count": 1,
     "metadata": {},
     "output_type": "execute_result"
    }
   ],
   "source": [
    "my_list=['a','a','b','b','c','c']\n",
    "di=list(dict.fromkeys(my_list))\n",
    "di"
   ]
  }
 ],
 "metadata": {
  "kernelspec": {
   "display_name": "Python 3 (ipykernel)",
   "language": "python",
   "name": "python3"
  },
  "language_info": {
   "codemirror_mode": {
    "name": "ipython",
    "version": 3
   },
   "file_extension": ".py",
   "mimetype": "text/x-python",
   "name": "python",
   "nbconvert_exporter": "python",
   "pygments_lexer": "ipython3",
   "version": "3.9.7"
  }
 },
 "nbformat": 4,
 "nbformat_minor": 4
}
